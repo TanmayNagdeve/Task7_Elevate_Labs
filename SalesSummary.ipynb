{
 "cells": [
  {
   "cell_type": "code",
   "execution_count": 1,
   "id": "f97c3191-eede-4503-86fc-1fa977e555bb",
   "metadata": {},
   "outputs": [
    {
     "name": "stdout",
     "output_type": "stream",
     "text": [
      "Requirement already satisfied: pandas in c:\\users\\tanmay\\appdata\\local\\programs\\python\\python312\\lib\\site-packages (2.2.3)Note: you may need to restart the kernel to use updated packages.\n"
     ]
    },
    {
     "name": "stderr",
     "output_type": "stream",
     "text": [
      "\n",
      "[notice] A new release of pip is available: 25.0 -> 25.1.1\n",
      "[notice] To update, run: python.exe -m pip install --upgrade pip\n"
     ]
    },
    {
     "name": "stdout",
     "output_type": "stream",
     "text": [
      "\n",
      "Requirement already satisfied: numpy>=1.26.0 in c:\\users\\tanmay\\appdata\\local\\programs\\python\\python312\\lib\\site-packages (from pandas) (1.26.4)\n",
      "Requirement already satisfied: python-dateutil>=2.8.2 in c:\\users\\tanmay\\appdata\\local\\programs\\python\\python312\\lib\\site-packages (from pandas) (2.9.0.post0)\n",
      "Requirement already satisfied: pytz>=2020.1 in c:\\users\\tanmay\\appdata\\local\\programs\\python\\python312\\lib\\site-packages (from pandas) (2024.1)\n",
      "Requirement already satisfied: tzdata>=2022.7 in c:\\users\\tanmay\\appdata\\local\\programs\\python\\python312\\lib\\site-packages (from pandas) (2024.1)\n",
      "Requirement already satisfied: six>=1.5 in c:\\users\\tanmay\\appdata\\local\\programs\\python\\python312\\lib\\site-packages (from python-dateutil>=2.8.2->pandas) (1.16.0)\n"
     ]
    }
   ],
   "source": [
    "pip install pandas"
   ]
  },
  {
   "cell_type": "code",
   "execution_count": 3,
   "id": "fbbdd668-6625-441e-9a21-9788e0a0c917",
   "metadata": {},
   "outputs": [],
   "source": [
    "import pandas as pd\n",
    "import numpy as np\n",
    "import matplotlib.pyplot as plt\n",
    "import seaborn as sns\n",
    "import sqlite3"
   ]
  },
  {
   "cell_type": "code",
   "execution_count": 5,
   "id": "45a17ddd-8f6f-4e1f-b7ab-a6d0ce2459ac",
   "metadata": {},
   "outputs": [],
   "source": [
    "db_file = 'sales_data.db'\n",
    "csv_file = 'OnlineSalesData.csv'"
   ]
  },
  {
   "cell_type": "code",
   "execution_count": 29,
   "id": "461f91f3-5dee-4b3a-b3dc-c996e9cfee65",
   "metadata": {},
   "outputs": [],
   "source": [
    "conn = sqlite3.connect(db_file)"
   ]
  },
  {
   "cell_type": "code",
   "execution_count": 7,
   "id": "dd989bdd-b38b-42c9-b9d0-ac9e6168032d",
   "metadata": {},
   "outputs": [
    {
     "name": "stdout",
     "output_type": "stream",
     "text": [
      "CSV 'OnlineSalesData.csv' loaded successfully into pandas DataFrame.\n"
     ]
    }
   ],
   "source": [
    "try:\n",
    "    df = pd.read_csv(csv_file)\n",
    "    print(f\"CSV '{csv_file}' loaded successfully into pandas DataFrame.\")\n",
    "except FileNotFoundError:\n",
    "    print(f\"Error: CSV file '{csv_file}' not found. Please check the path.\")\n",
    "    conn.close()\n",
    "    exit()"
   ]
  },
  {
   "cell_type": "code",
   "execution_count": 8,
   "id": "8378d88c-3950-4c50-b060-3ddeb54a37a8",
   "metadata": {},
   "outputs": [],
   "source": [
    "table_name = 'sales_table'"
   ]
  },
  {
   "cell_type": "code",
   "execution_count": 9,
   "id": "217381d1-2c3e-4cee-9dd4-a782a1995e5e",
   "metadata": {},
   "outputs": [
    {
     "name": "stdout",
     "output_type": "stream",
     "text": [
      "Data from 'OnlineSalesData.csv' successfully imported into table 'sales_table' in 'sales_data.db'.\n"
     ]
    }
   ],
   "source": [
    "df.to_sql(table_name, conn, if_exists='replace', index=False)\n",
    "print(f\"Data from '{csv_file}' successfully imported into table '{table_name}' in '{db_file}'.\")\n"
   ]
  },
  {
   "cell_type": "code",
   "execution_count": 12,
   "id": "21c9cd05-a047-4025-bd0d-0ba27549f2b0",
   "metadata": {},
   "outputs": [
    {
     "name": "stdout",
     "output_type": "stream",
     "text": [
      "\n",
      "First 5 rows from the new table:\n",
      "(10001, '2024-01-01', 'Electronics', 'iPhone 14 Pro', 2, 999.99, 1999.98, 'North America', 'Credit Card')\n",
      "(10002, '2024-01-02', 'Home Appliances', 'Dyson V11 Vacuum', 1, 499.99, 499.99, 'Europe', 'PayPal')\n",
      "(10003, '2024-01-03', 'Clothing', \"Levi's 501 Jeans\", 3, 69.99, 209.97, 'Asia', 'Debit Card')\n",
      "(10004, '2024-01-04', 'Books', 'The Da Vinci Code', 4, 15.99, 63.96, 'North America', 'Credit Card')\n",
      "(10005, '2024-01-05', 'Beauty Products', 'Neutrogena Skincare Set', 1, 89.99, 89.99, 'Europe', 'PayPal')\n"
     ]
    }
   ],
   "source": [
    "cursor = conn.cursor()\n",
    "cursor.execute(f\"SELECT * FROM {table_name} LIMIT 5;\") # Select first 5 rows\n",
    "rows = cursor.fetchall()\n",
    "print(\"\\nFirst 5 rows from the new table:\")\n",
    "for row in rows:\n",
    "    print(row)"
   ]
  },
  {
   "cell_type": "code",
   "execution_count": 22,
   "id": "70b8fdb1-7065-4e54-a6b6-0da216c372d5",
   "metadata": {},
   "outputs": [
    {
     "name": "stdout",
     "output_type": "stream",
     "text": [
      "(40, 'Beauty Products')\n",
      "(40, 'Books')\n",
      "(40, 'Clothing')\n",
      "(40, 'Electronics')\n",
      "(40, 'Home Appliances')\n",
      "(40, 'Sports')\n"
     ]
    }
   ],
   "source": [
    "cursor = conn.cursor()\n",
    "cursor.execute(f\"\"\"SELECT count(distinct(`Transaction ID`)),\n",
    "\t    `Product Category`\n",
    "        from {table_name}\n",
    "        group by `Product Category`;\"\"\") \n",
    "rows = cursor.fetchall()\n",
    "for row in rows:\n",
    "    print(row)"
   ]
  },
  {
   "cell_type": "code",
   "execution_count": 25,
   "id": "ecc4fdf7-e4b3-4817-8a2b-7f256088193d",
   "metadata": {},
   "outputs": [
    {
     "name": "stdout",
     "output_type": "stream",
     "text": [
      "('01', 'Electronics', 7999.9)\n",
      "('01', 'Home Appliances', 2169.94)\n",
      "('01', 'Clothing', 1789.8400000000001)\n",
      "('01', 'Sports', 1579.83)\n",
      "('01', 'Beauty Products', 699.95)\n",
      "('01', 'Books', 308.86)\n",
      "('02', 'Sports', 2993.87)\n",
      "('02', 'Electronics', 2899.88)\n",
      "('02', 'Home Appliances', 2869.92)\n",
      "('02', 'Clothing', 1284.81)\n",
      "('02', 'Books', 422.90999999999997)\n",
      "('02', 'Beauty Products', 331.98)\n",
      "('03', 'Home Appliances', 5059.91)\n",
      "('03', 'Electronics', 4499.9)\n",
      "('03', 'Sports', 1609.8400000000001)\n",
      "('03', 'Clothing', 1009.76)\n",
      "('03', 'Beauty Products', 417.0)\n",
      "('03', 'Books', 252.82999999999998)\n",
      "('04', 'Electronics', 6709.91)\n",
      "('04', 'Sports', 2559.8)\n",
      "('04', 'Home Appliances', 1989.85)\n",
      "('04', 'Clothing', 769.8)\n",
      "('04', 'Books', 220.85)\n",
      "('04', 'Beauty Products', 201.48)\n",
      "('05', 'Electronics', 4198.96)\n",
      "('05', 'Home Appliances', 1989.82)\n",
      "('05', 'Sports', 1159.66)\n",
      "('05', 'Clothing', 829.88)\n",
      "('05', 'Books', 149.87)\n",
      "('05', 'Beauty Products', 127.3)\n",
      "('06', 'Electronics', 3599.93)\n",
      "('06', 'Home Appliances', 1479.89)\n",
      "('06', 'Sports', 1365.93)\n",
      "('06', 'Clothing', 579.4499999999999)\n",
      "('06', 'Beauty Products', 209.49)\n",
      "('06', 'Books', 149.85999999999999)\n",
      "('07', 'Electronics', 2006.97)\n",
      "('07', 'Sports', 1648.88)\n",
      "('07', 'Home Appliances', 1417.8700000000001)\n",
      "('07', 'Clothing', 1095.48)\n",
      "('07', 'Beauty Products', 464.0)\n",
      "('07', 'Books', 163.88)\n",
      "('08', 'Electronics', 3066.96)\n",
      "('08', 'Home Appliances', 1668.96)\n",
      "('08', 'Sports', 1408.71)\n",
      "('08', 'Clothing', 769.91)\n",
      "('08', 'Books', 192.87)\n",
      "('08', 'Beauty Products', 170.7)\n"
     ]
    }
   ],
   "source": [
    "cursor = conn.cursor()\n",
    "cursor.execute(f\"\"\"SELECT STRFTIME('%m', Date) AS Month, `Product Category`, SUM(`Total Revenue`) as Revenue\n",
    "FROM {table_name}\n",
    "GROUP BY Month, `Product Category`\n",
    "ORDER BY Month, Revenue DESC;\"\"\") \n",
    "rows = cursor.fetchall()\n",
    "for row in rows:\n",
    "    print(row)"
   ]
  },
  {
   "cell_type": "code",
   "execution_count": 27,
   "id": "afa2afe4-be91-4d0b-a551-f30732f1696d",
   "metadata": {},
   "outputs": [
    {
     "name": "stdout",
     "output_type": "stream",
     "text": [
      "(12849.24, '03')\n",
      "(12548.34, '01')\n",
      "(12451.69, '04')\n",
      "(10803.37, '02')\n",
      "(8455.49, '05')\n"
     ]
    }
   ],
   "source": [
    "cursor = conn.cursor()\n",
    "cursor.execute(f\"\"\"SELECT sum(`Total Revenue`) as Total_Revenue,\n",
    "    STRFTIME('%m', Date) AS Month \n",
    "    from {table_name}\n",
    "    where `Date` between '2024-01-01 00:00:00' and '2024-08-27 00:00:00'\n",
    "    group by `Month`\n",
    "\torder by `Total_Revenue` desc\n",
    "    Limit 5;\"\"\") \n",
    "rows = cursor.fetchall()\n",
    "for row in rows:\n",
    "    print(row)"
   ]
  },
  {
   "cell_type": "code",
   "execution_count": 35,
   "id": "01bdd11d-cb54-4469-bd4b-467127b9caa5",
   "metadata": {},
   "outputs": [
    {
     "data": {
      "image/png": "[encoded data removed]",
      "text/plain": [
       "<Figure size 1000x600 with 1 Axes>"
      ]
     },
     "metadata": {},
     "output_type": "display_data"
    }
   ],
   "source": [
    "df2 = pd.DataFrame(rows, columns=['Total_Revenue', 'Month_Number'])\n",
    "plt.figure(figsize=(10, 6)) # Adjust figure size as needed\n",
    "\n",
    "plt.bar(df2['Month_Number'], df2['Total_Revenue'], color='skyblue')\n",
    "\n",
    "plt.xlabel('Month Number')\n",
    "plt.ylabel('Total Revenue')\n",
    "plt.title('Total Revenue by Month (Top 5 by Revenue, Jan-May 2024)')\n",
    "plt.xticks(rotation=45, ha='right')\n",
    "for index, row in df2.iterrows():\n",
    "    plt.text(row['Month_Number'], row['Total_Revenue'], f\"{row['Total_Revenue']:.2f}\",\n",
    "             ha='center', va='bottom')\n",
    "plt.tight_layout() \n",
    "plt.grid(axis='y', linestyle='--', alpha=0.7) \n",
    "plt.show()\n",
    "\n"
   ]
  },
  {
   "cell_type": "code",
   "execution_count": 36,
   "id": "b435c570-b18c-4c43-ac40-b2e25ce29157",
   "metadata": {},
   "outputs": [
    {
     "name": "stdout",
     "output_type": "stream",
     "text": [
      "Database connection closed.\n"
     ]
    }
   ],
   "source": [
    "conn.close()\n",
    "print(\"Database connection closed.\")"
   ]
  },
  {
   "cell_type": "code",
   "execution_count": null,
   "id": "1b8d9594-9d5e-4911-ad83-08e3f99e95e0",
   "metadata": {},
   "outputs": [],
   "source": []
  }
 ],
 "metadata": {
  "kernelspec": {
   "display_name": "Python 3 (ipykernel)",
   "language": "python",
   "name": "python3"
  },
  "language_info": {
   "codemirror_mode": {
    "name": "ipython",
    "version": 3
   },
   "file_extension": ".py",
   "mimetype": "text/x-python",
   "name": "python",
   "nbconvert_exporter": "python",
   "pygments_lexer": "ipython3",
   "version": "3.12.4"
  }
 },
 "nbformat": 4,
 "nbformat_minor": 5
}
